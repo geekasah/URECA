{
  "cells": [
    {
      "cell_type": "code",
      "execution_count": null,
      "id": "e19e37d6-206d-4bb3-aa17-0a1b273d8e72",
      "metadata": {
        "execution": {
          "iopub.execute_input": "2023-04-01T13:55:05.184317Z",
          "iopub.status.busy": "2023-04-01T13:55:05.184037Z",
          "iopub.status.idle": "2023-04-01T13:55:05.187998Z",
          "shell.execute_reply": "2023-04-01T13:55:05.187415Z",
          "shell.execute_reply.started": "2023-04-01T13:55:05.184297Z"
        },
        "tags": [],
        "id": "e19e37d6-206d-4bb3-aa17-0a1b273d8e72"
      },
      "outputs": [],
      "source": [
        "from __future__ import print_function\n",
        "\n",
        "from keras.models import Model\n",
        "from keras.layers import Input, MaxPooling2D, UpSampling2D, Dropout, Conv2D, Concatenate, Activation\n",
        "from keras.layers import BatchNormalization\n",
        "from keras.regularizers import l2"
      ]
    },
    {
      "cell_type": "code",
      "execution_count": null,
      "id": "58f64219-3303-4318-b7ed-dc8aa97d6968",
      "metadata": {
        "execution": {
          "iopub.execute_input": "2023-04-01T13:55:05.917842Z",
          "iopub.status.busy": "2023-04-01T13:55:05.917308Z",
          "iopub.status.idle": "2023-04-01T13:55:05.921372Z",
          "shell.execute_reply": "2023-04-01T13:55:05.920756Z",
          "shell.execute_reply.started": "2023-04-01T13:55:05.917821Z"
        },
        "tags": [],
        "id": "58f64219-3303-4318-b7ed-dc8aa97d6968"
      },
      "outputs": [],
      "source": [
        "import numpy as np\n",
        "from keras.optimizers import Adam\n",
        "from keras.callbacks import ModelCheckpoint\n",
        "from matplotlib import pyplot as plt\n",
        "from sklearn.model_selection import train_test_split\n",
        "import tensorflow as tf\n",
        "import os\n",
        "import matplotlib.pyplot as plt"
      ]
    },
    {
      "cell_type": "code",
      "source": [
        "from google.colab import drive\n",
        "drive.mount('/content/drive')"
      ],
      "metadata": {
        "colab": {
          "base_uri": "https://localhost:8080/"
        },
        "id": "0d49MQimT039",
        "outputId": "4c70dfa4-ccd6-4fa7-d482-345963e5c788"
      },
      "id": "0d49MQimT039",
      "execution_count": null,
      "outputs": [
        {
          "output_type": "stream",
          "name": "stdout",
          "text": [
            "Mounted at /content/drive\n"
          ]
        }
      ]
    },
    {
      "cell_type": "code",
      "execution_count": null,
      "id": "e161353e-1206-49ab-a8a3-fd3fa7762d5d",
      "metadata": {
        "execution": {
          "iopub.execute_input": "2023-04-01T13:55:07.013322Z",
          "iopub.status.busy": "2023-04-01T13:55:07.013060Z",
          "iopub.status.idle": "2023-04-01T13:55:07.017067Z",
          "shell.execute_reply": "2023-04-01T13:55:07.016449Z",
          "shell.execute_reply.started": "2023-04-01T13:55:07.013304Z"
        },
        "id": "e161353e-1206-49ab-a8a3-fd3fa7762d5d"
      },
      "outputs": [],
      "source": [
        "devices=tf.config.experimental.list_physical_devices(\"GPU\")\n",
        "\n",
        "for device in devices:\n",
        "    tf.config.experimental.set_memory_growth(device, enable=True)"
      ]
    },
    {
      "cell_type": "code",
      "execution_count": null,
      "id": "2a6d7bc2-5f2a-4b47-a17c-912b81f06a3c",
      "metadata": {
        "execution": {
          "iopub.execute_input": "2023-04-01T13:55:08.803407Z",
          "iopub.status.busy": "2023-04-01T13:55:08.802632Z",
          "iopub.status.idle": "2023-04-01T13:55:08.807439Z",
          "shell.execute_reply": "2023-04-01T13:55:08.806776Z",
          "shell.execute_reply.started": "2023-04-01T13:55:08.803385Z"
        },
        "tags": [],
        "id": "2a6d7bc2-5f2a-4b47-a17c-912b81f06a3c"
      },
      "outputs": [],
      "source": [
        "def conv_factory(x, concat_axis, nb_filter,\n",
        "                 dropout_rate=None, weight_decay=1E-4):\n",
        "    x = BatchNormalization(axis=concat_axis,\n",
        "                           gamma_regularizer=l2(weight_decay),\n",
        "                           beta_regularizer=l2(weight_decay))(x)\n",
        "    x = Activation('relu')(x)\n",
        "    x = Conv2D(nb_filter, (5, 5), dilation_rate=(2, 2),\n",
        "               kernel_initializer=\"he_uniform\",\n",
        "               padding=\"same\",\n",
        "               kernel_regularizer=l2(weight_decay))(x)\n",
        "    if dropout_rate:\n",
        "        x = Dropout(dropout_rate)(x)\n",
        "\n",
        "    return x"
      ]
    },
    {
      "cell_type": "code",
      "execution_count": null,
      "id": "666449f2-29de-4ec9-956e-1d731544b8e2",
      "metadata": {
        "execution": {
          "iopub.execute_input": "2023-04-01T13:55:11.472123Z",
          "iopub.status.busy": "2023-04-01T13:55:11.471863Z",
          "iopub.status.idle": "2023-04-01T13:55:11.476187Z",
          "shell.execute_reply": "2023-04-01T13:55:11.475517Z",
          "shell.execute_reply.started": "2023-04-01T13:55:11.472105Z"
        },
        "tags": [],
        "id": "666449f2-29de-4ec9-956e-1d731544b8e2"
      },
      "outputs": [],
      "source": [
        "def denseblock(x, concat_axis, nb_layers, growth_rate,\n",
        "               dropout_rate=None, weight_decay=1E-4):\n",
        "    list_feat = [x]\n",
        "    for i in range(nb_layers):\n",
        "        x = conv_factory(x, concat_axis, growth_rate,\n",
        "                         dropout_rate, weight_decay)\n",
        "        list_feat.append(x)\n",
        "        x = Concatenate(axis=concat_axis)(list_feat)\n",
        "\n",
        "    return x\n"
      ]
    },
    {
      "cell_type": "code",
      "execution_count": null,
      "id": "088075a2-e592-47b6-ab69-b953f74d218e",
      "metadata": {
        "execution": {
          "iopub.execute_input": "2023-04-01T13:55:13.098007Z",
          "iopub.status.busy": "2023-04-01T13:55:13.097754Z",
          "iopub.status.idle": "2023-04-01T13:55:13.110678Z",
          "shell.execute_reply": "2023-04-01T13:55:13.110060Z",
          "shell.execute_reply.started": "2023-04-01T13:55:13.097989Z"
        },
        "tags": [],
        "id": "088075a2-e592-47b6-ab69-b953f74d218e"
      },
      "outputs": [],
      "source": [
        "def get_model_deep_speckle2():\n",
        "    inputs = Input((28, 28, 1))\n",
        "    #print(\"inputs shape:\", inputs.shape)\n",
        "\n",
        "    conv1 = Conv2D(14, 3, activation='relu', padding='same', kernel_initializer='he_normal')(inputs)\n",
        "    #print(\"conv1 shape:\", conv1.shape)\n",
        "    db1 = denseblock(x=conv1, concat_axis=3, nb_layers=4, growth_rate=16, dropout_rate=0.5)\n",
        "    #print(\"db1 shape:\", db1.shape)\n",
        "    pool1 = MaxPooling2D(pool_size=(2, 2))(db1)\n",
        "    #print(\"pool1 shape:\", pool1.shape)\n",
        "\n",
        "    conv2 = Conv2D(28, 3, activation='relu', padding='same', kernel_initializer='he_normal')(db1)\n",
        "    #print(\"conv2 shape:\", conv2.shape)\n",
        "    db2 = denseblock(x=conv2, concat_axis=3, nb_layers=4, growth_rate=16, dropout_rate=0.5)\n",
        "    #print(\"db2 shape:\", db2.shape)\n",
        "    pool2 = MaxPooling2D(pool_size=(2, 2))(db2)\n",
        "    #print(\"pool2 shape:\", pool2.shape)\n",
        "\n",
        "    conv3 = Conv2D(56, 3, activation='relu', padding='same', kernel_initializer='he_normal')(db2)\n",
        "    #print(\"conv3 shape:\", conv3.shape)\n",
        "    db3 = denseblock(x=conv3, concat_axis=3, nb_layers=4, growth_rate=16, dropout_rate=0.5)\n",
        "    #print(\"db3 shape:\", db3.shape)\n",
        "\n",
        "    conv4 = Conv2D(112, 3, activation='relu', padding='same', kernel_initializer='he_normal')(db3)\n",
        "    #print(\"conv4 shape:\", conv4.shape)\n",
        "    db4 = denseblock(x=conv4, concat_axis=3, nb_layers=4, growth_rate=16, dropout_rate=0.5)\n",
        "    #print(\"db4 shape:\", db4.shape)\n",
        "\n",
        "    conv5 = Conv2D(224, 3, activation='relu', padding='same', kernel_initializer='he_normal')(db4)\n",
        "    #print(\"conv5 shape:\", conv5.shape)\n",
        "    db5 = denseblock(x=conv5, concat_axis=3, nb_layers=4, growth_rate=16, dropout_rate=0.5)\n",
        "    #print(\"db5 shape:\", db5.shape)\n",
        "    merge5 = Concatenate(axis=3)([db4, db5])\n",
        "    #print(\"merge5 shape:\", merge5.shape)\n",
        "\n",
        "    conv6 = Conv2D(112, 3, activation='relu', padding='same', kernel_initializer='he_normal')(db5)\n",
        "    #print(\"conv6 shape:\", conv6.shape)\n",
        "    db6 = denseblock(x=conv6, concat_axis=3, nb_layers=3, growth_rate=16, dropout_rate=0.5)\n",
        "    #print(\"db5 shape:\", db6.shape)\n",
        "    merge6 = Concatenate(axis=3)([db3, db6])\n",
        "    #print(\"merge6 shape:\", merge6.shape)\n",
        "\n",
        "    conv7 = Conv2D(56, 3, activation='relu', padding='same', kernel_initializer='he_normal')(merge6)\n",
        "    #print(\"conv7 shape:\", conv7.shape)\n",
        "    db7 = denseblock(x=conv7, concat_axis=3, nb_layers=3, growth_rate=16, dropout_rate=0.5)\n",
        "    #print(\"db7 shape:\", db7.shape)\n",
        "    up7 = Conv2D(28, 2, activation='relu', padding='same', kernel_initializer='he_normal')(\n",
        "        UpSampling2D(size=(2, 2))(db7))\n",
        "    #print(\"up7 shape:\", up7.shape)\n",
        "    merge7 = Concatenate(axis=3)([db2, db7])\n",
        "    #print(\"merge7 shape:\", merge7.shape)\n",
        "\n",
        "    conv8 = Conv2D(28, 3, activation='relu', padding='same', kernel_initializer='he_normal')(merge7)\n",
        "    #print(\"conv8 shape:\", conv8.shape)\n",
        "    db8 = denseblock(x=conv8, concat_axis=3, nb_layers=3, growth_rate=16, dropout_rate=0.5)\n",
        "    #print(\"db8 shape:\", db8.shape)\n",
        "    up8 = Conv2D(14, 2, activation='relu', padding='same', kernel_initializer='he_normal')(\n",
        "        UpSampling2D(size=(2, 2))(db8))\n",
        "    #print(\"up8 shape:\", up8.shape)\n",
        "    merge8 = Concatenate(axis=3)([db1, db8])\n",
        "    #print(\"merge8 shape:\", merge8.shape)\n",
        "\n",
        "    conv9 = Conv2D(14, 3, activation='relu', padding='same', kernel_initializer='he_normal')(merge8)\n",
        "    #print(\"conv9 shape:\", conv9.shape)\n",
        "    db9 = denseblock(x=conv9, concat_axis=3, nb_layers=3, growth_rate=16, dropout_rate=0.5)\n",
        "    #print(\"db9 shape:\", db9.shape)\n",
        "    conv10 = Conv2D(7, 3, activation='relu', padding='same', kernel_initializer='he_normal')(db9)\n",
        "    #print(\"conv10 shape:\", conv10.shape)\n",
        "    conv11 = Conv2D(1, 1, activation='tanh')(conv10)\n",
        "    #print(\"conv11 shape:\", conv11.shape)\n",
        "\n",
        "    model = Model(inputs=inputs, outputs=conv11)\n",
        "\n",
        "    return model"
      ]
    },
    {
      "cell_type": "code",
      "execution_count": null,
      "id": "ccd05fe9-97ab-4f93-bb8f-c7e89229513c",
      "metadata": {
        "execution": {
          "iopub.execute_input": "2023-04-01T13:55:15.394032Z",
          "iopub.status.busy": "2023-04-01T13:55:15.393750Z",
          "iopub.status.idle": "2023-04-01T13:55:16.248904Z",
          "shell.execute_reply": "2023-04-01T13:55:16.246402Z",
          "shell.execute_reply.started": "2023-04-01T13:55:15.394008Z"
        },
        "tags": [],
        "id": "ccd05fe9-97ab-4f93-bb8f-c7e89229513c"
      },
      "outputs": [],
      "source": [
        "unet_model=get_model_deep_speckle2()\n",
        "optimizer = tf.keras.optimizers.Adam(learning_rate=1e-4)\n",
        "loss=tf.keras.losses.MeanSquaredError()\n",
        "metrics=[tf.keras.metrics.Accuracy()]\n",
        "unet_model.compile(optimizer=optimizer, loss=loss, metrics=metrics)\n",
        "#unet_model.summary()"
      ]
    },
    {
      "cell_type": "code",
      "execution_count": null,
      "id": "229967d1-6618-4536-b16e-90b8e8f8c972",
      "metadata": {
        "execution": {
          "iopub.execute_input": "2023-04-01T13:55:18.487430Z",
          "iopub.status.busy": "2023-04-01T13:55:18.486810Z",
          "iopub.status.idle": "2023-04-01T13:55:18.491386Z",
          "shell.execute_reply": "2023-04-01T13:55:18.490820Z",
          "shell.execute_reply.started": "2023-04-01T13:55:18.487413Z"
        },
        "tags": [],
        "id": "229967d1-6618-4536-b16e-90b8e8f8c972"
      },
      "outputs": [],
      "source": [
        "def load_image(img_path, img_conv_path):\n",
        "    img, img_conv=tf.io.read_file(img_path), tf.io.read_file(img_conv_path)\n",
        "    img, img_conv=tf.image.decode_png(img), tf.image.decode_png(img_conv)\n",
        "    img, img_conv=tf.cast(img, tf.float32), tf.cast(img_conv, tf.float32)\n",
        "    #img, img_conv=tf.reshape(img,[28,28,4]), tf.reshape(img_conv,[28,28,4])\n",
        "    img, img_conv=tf.expand_dims(img[:,:,0], axis=-1), tf.expand_dims(img_conv[:,:,0], axis=-1)\n",
        "    img, img_conv=img/255.0, img_conv/255.0\n",
        "    return img, img_conv"
      ]
    },
    {
      "cell_type": "code",
      "execution_count": null,
      "id": "032e82c4-18b4-45a4-99cb-779b1e8df653",
      "metadata": {
        "execution": {
          "iopub.execute_input": "2023-04-01T13:55:19.389808Z",
          "iopub.status.busy": "2023-04-01T13:55:19.388958Z",
          "iopub.status.idle": "2023-04-01T13:55:19.476337Z",
          "shell.execute_reply": "2023-04-01T13:55:19.475780Z",
          "shell.execute_reply.started": "2023-04-01T13:55:19.389775Z"
        },
        "id": "032e82c4-18b4-45a4-99cb-779b1e8df653"
      },
      "outputs": [],
      "source": [
        "@tf.function\n",
        "def train_step(x,y):\n",
        "    with tf.GradientTape(persistent=True) as tape:\n",
        "        pred=unet_model(x, training=True)\n",
        "        loss_=loss(pred,y)\n",
        "    gradients=tape.gradient(loss_, unet_model.trainable_variables)\n",
        "    optimizer.apply_gradients(zip(gradients, unet_model.trainable_variables))\n",
        "    return loss_"
      ]
    },
    {
      "cell_type": "code",
      "execution_count": null,
      "id": "9007019f-46da-4fff-9aa3-c59d62af4e64",
      "metadata": {
        "execution": {
          "iopub.execute_input": "2023-04-01T13:55:21.986912Z",
          "iopub.status.busy": "2023-04-01T13:55:21.986274Z",
          "iopub.status.idle": "2023-04-01T13:55:21.990032Z",
          "shell.execute_reply": "2023-04-01T13:55:21.989452Z",
          "shell.execute_reply.started": "2023-04-01T13:55:21.986887Z"
        },
        "tags": [],
        "id": "9007019f-46da-4fff-9aa3-c59d62af4e64"
      },
      "outputs": [],
      "source": [
        "y_train_path='/content/drive/MyDrive/Colab Notebooks/img_500_1'\n",
        "x_train_path='/content/drive/MyDrive/Colab Notebooks/img_500_1_conv'\n",
        "y_test_path='/content/drive/MyDrive/Colab Notebooks/img 1'\n",
        "x_test_path='/content/drive/MyDrive/Colab Notebooks/img_conv 1'"
      ]
    },
    {
      "cell_type": "code",
      "execution_count": null,
      "id": "143ecc20-a2c1-48bb-a6b2-04ec9e0b179b",
      "metadata": {
        "execution": {
          "iopub.execute_input": "2023-04-01T13:55:23.163917Z",
          "iopub.status.busy": "2023-04-01T13:55:23.163184Z",
          "iopub.status.idle": "2023-04-01T13:55:23.246338Z",
          "shell.execute_reply": "2023-04-01T13:55:23.245679Z",
          "shell.execute_reply.started": "2023-04-01T13:55:23.163897Z"
        },
        "tags": [],
        "id": "143ecc20-a2c1-48bb-a6b2-04ec9e0b179b"
      },
      "outputs": [],
      "source": [
        "filenames_train=os.listdir(y_train_path)\n",
        "filenames_test=os.listdir(y_test_path)"
      ]
    },
    {
      "cell_type": "code",
      "execution_count": null,
      "id": "3a36678c-ff1d-4225-b5e5-f076a0c171ea",
      "metadata": {
        "execution": {
          "iopub.execute_input": "2023-04-01T13:55:27.228485Z",
          "iopub.status.busy": "2023-04-01T13:55:27.227894Z",
          "iopub.status.idle": "2023-04-01T13:55:27.305074Z",
          "shell.execute_reply": "2023-04-01T13:55:27.304419Z",
          "shell.execute_reply.started": "2023-04-01T13:55:27.228463Z"
        },
        "tags": [],
        "colab": {
          "base_uri": "https://localhost:8080/"
        },
        "id": "3a36678c-ff1d-4225-b5e5-f076a0c171ea",
        "outputId": "8bd0d6cb-5846-443f-a5c5-4875c2a5b81a"
      },
      "outputs": [
        {
          "output_type": "stream",
          "name": "stdout",
          "text": [
            "(28, 28, 1) (28, 28, 1)\n",
            "(28, 28, 1) (28, 28, 1)\n"
          ]
        }
      ],
      "source": [
        "y_train, x_train=load_image(os.path.join(y_train_path, filenames_train[0]), os.path.join(x_train_path, filenames_train[0]))\n",
        "y_test, x_test=load_image(os.path.join(y_test_path, filenames_test[0]), os.path.join(x_test_path, filenames_test[0]))\n",
        "print(x_train.shape, y_train.shape)\n",
        "print(x_test.shape, y_test.shape)"
      ]
    },
    {
      "cell_type": "code",
      "execution_count": null,
      "id": "d1c027a1-bb14-48f3-95cd-76eec9ac7ca9",
      "metadata": {
        "execution": {
          "iopub.execute_input": "2023-04-01T13:55:30.668852Z",
          "iopub.status.busy": "2023-04-01T13:55:30.668246Z",
          "iopub.status.idle": "2023-04-01T13:55:30.674843Z",
          "shell.execute_reply": "2023-04-01T13:55:30.674167Z",
          "shell.execute_reply.started": "2023-04-01T13:55:30.668828Z"
        },
        "id": "d1c027a1-bb14-48f3-95cd-76eec9ac7ca9"
      },
      "outputs": [],
      "source": [
        "x_train=[os.path.join(x_train_path,i) for i in filenames_train]\n",
        "y_train=[os.path.join(y_train_path,i) for i in filenames_train]\n",
        "x_test=[os.path.join(x_test_path,i) for i in filenames_test]\n",
        "y_test=[os.path.join(y_test_path,i) for i in filenames_test]"
      ]
    },
    {
      "cell_type": "code",
      "execution_count": null,
      "id": "2d6239ec-cf4e-47be-a386-7ffb445539ec",
      "metadata": {
        "execution": {
          "iopub.execute_input": "2023-04-01T13:55:31.685119Z",
          "iopub.status.busy": "2023-04-01T13:55:31.684504Z",
          "iopub.status.idle": "2023-04-01T13:55:31.704009Z",
          "shell.execute_reply": "2023-04-01T13:55:31.703500Z",
          "shell.execute_reply.started": "2023-04-01T13:55:31.685097Z"
        },
        "id": "2d6239ec-cf4e-47be-a386-7ffb445539ec"
      },
      "outputs": [],
      "source": [
        "training_dataset=tf.data.Dataset.from_tensor_slices((x_train, y_train))\n",
        "training_dataset=training_dataset.map(load_image).batch(25)"
      ]
    },
    {
      "cell_type": "code",
      "execution_count": null,
      "id": "3c6569cc-0cbb-4f27-a880-d256527277c5",
      "metadata": {
        "execution": {
          "iopub.execute_input": "2023-04-01T13:55:32.486905Z",
          "iopub.status.busy": "2023-04-01T13:55:32.486638Z",
          "iopub.status.idle": "2023-04-01T13:55:32.565901Z",
          "shell.execute_reply": "2023-04-01T13:55:32.565349Z",
          "shell.execute_reply.started": "2023-04-01T13:55:32.486887Z"
        },
        "id": "3c6569cc-0cbb-4f27-a880-d256527277c5"
      },
      "outputs": [],
      "source": [
        "test_dataset=tf.data.Dataset.from_tensor_slices((x_test, y_test))\n",
        "test_dataset=test_dataset.map(load_image).batch(25)"
      ]
    },
    {
      "cell_type": "code",
      "execution_count": null,
      "id": "85aeee90-96be-4a86-a74a-32bfeeab5300",
      "metadata": {
        "execution": {
          "iopub.execute_input": "2023-04-01T13:55:35.114788Z",
          "iopub.status.busy": "2023-04-01T13:55:35.114524Z",
          "iopub.status.idle": "2023-04-01T13:57:03.402228Z",
          "shell.execute_reply": "2023-04-01T13:57:03.401786Z",
          "shell.execute_reply.started": "2023-04-01T13:55:35.114769Z"
        },
        "colab": {
          "base_uri": "https://localhost:8080/",
          "height": 323,
          "referenced_widgets": [
            "0ea6ced3b3e5475abdea4242ee0558b8",
            "5a0b9a7defa24991a862cb3280c3914c",
            "723cfc94dc5245e8b7647b193ba3b233",
            "cc4e851900cc4ef098159d85ee742f20",
            "9a15c795d7af4a4a95ebaa758c69170f",
            "f5a03a3db40944d7819f71cacd8e8c45",
            "a45b294b0ae14aa58ef1c65a10f32948",
            "b9780ee2fa664c08ae25803038fca825",
            "4eb4e2b618164888b2c79f07ea7abab7",
            "41ab83465ef0430fa6ec4a754ed006c1",
            "413b6ccdebae49ea8de1d807482cc98b"
          ]
        },
        "id": "85aeee90-96be-4a86-a74a-32bfeeab5300",
        "outputId": "3646b642-b5a8-4cb4-99be-e85b0c1f18b6"
      },
      "outputs": [
        {
          "output_type": "display_data",
          "data": {
            "text/plain": [
              "  0%|          | 0/15 [00:00<?, ?it/s]"
            ],
            "application/vnd.jupyter.widget-view+json": {
              "version_major": 2,
              "version_minor": 0,
              "model_id": "0ea6ced3b3e5475abdea4242ee0558b8"
            }
          },
          "metadata": {}
        },
        {
          "output_type": "stream",
          "name": "stdout",
          "text": [
            "Completed Epoch:1 Training Loss: 0.6433441638946533 Validation loss: 0.4206131100654602\n",
            "Completed Epoch:2 Training Loss: 0.489883691072464 Validation loss: 0.37971389293670654\n",
            "Completed Epoch:3 Training Loss: 0.32609808444976807 Validation loss: 0.39928025007247925\n",
            "Completed Epoch:4 Training Loss: 0.18807396292686462 Validation loss: 0.1163964569568634\n",
            "Completed Epoch:5 Training Loss: 0.13100269436836243 Validation loss: 0.09768606722354889\n",
            "Completed Epoch:6 Training Loss: 0.11567728966474533 Validation loss: 0.09740772843360901\n",
            "Completed Epoch:7 Training Loss: 0.10757770389318466 Validation loss: 0.09440574049949646\n",
            "Completed Epoch:8 Training Loss: 0.10274501144886017 Validation loss: 0.09237957000732422\n",
            "Completed Epoch:9 Training Loss: 0.0979466587305069 Validation loss: 0.0886363834142685\n",
            "Completed Epoch:10 Training Loss: 0.0934782475233078 Validation loss: 0.08362962305545807\n",
            "Completed Epoch:11 Training Loss: 0.09044711291790009 Validation loss: 0.08015339076519012\n",
            "Completed Epoch:12 Training Loss: 0.08729679882526398 Validation loss: 0.07690437138080597\n",
            "Completed Epoch:13 Training Loss: 0.08439616113901138 Validation loss: 0.07478149980306625\n",
            "Completed Epoch:14 Training Loss: 0.0822937861084938 Validation loss: 0.07278433442115784\n",
            "Completed Epoch:15 Training Loss: 0.07979952543973923 Validation loss: 0.07200958579778671\n"
          ]
        }
      ],
      "source": [
        "epochs=15\n",
        "losses=[]\n",
        "from tqdm.auto import tqdm\n",
        "for epoch in tqdm(range(1, epochs+1)):\n",
        "    batch_loss=[]\n",
        "    for train_x, train_y in training_dataset:\n",
        "        loss_=train_step(train_x, train_y)\n",
        "        batch_loss.append(loss_)\n",
        "    val_losses=[]\n",
        "    for test_x, test_y in test_dataset:\n",
        "        val_losses.append(loss(unet_model(test_x, training=False), test_y))\n",
        "    losses.append(np.mean(batch_loss))\n",
        "    print(f\"Completed Epoch:{epoch} Training Loss: {np.mean(batch_loss)} Validation loss: {np.mean(val_losses)}\")"
      ]
    },
    {
      "cell_type": "code",
      "execution_count": null,
      "id": "3da58c38-cf89-4e61-b888-d5ac7d0cd3b8",
      "metadata": {
        "execution": {
          "iopub.execute_input": "2023-03-30T23:35:19.943813Z",
          "iopub.status.busy": "2023-03-30T23:35:19.943390Z",
          "iopub.status.idle": "2023-03-30T23:35:21.283977Z",
          "shell.execute_reply": "2023-03-30T23:35:21.283054Z",
          "shell.execute_reply.started": "2023-03-30T23:35:19.943768Z"
        },
        "id": "3da58c38-cf89-4e61-b888-d5ac7d0cd3b8"
      },
      "outputs": [],
      "source": [
        "#unet_model.save(\"tanh.h5\")"
      ]
    },
    {
      "cell_type": "code",
      "execution_count": null,
      "id": "feb487b7-5ba7-46b5-b3b0-3a10a4dc3a18",
      "metadata": {
        "execution": {
          "iopub.execute_input": "2023-04-01T13:53:28.454363Z",
          "iopub.status.busy": "2023-04-01T13:53:28.454057Z",
          "iopub.status.idle": "2023-04-01T13:53:28.537493Z",
          "shell.execute_reply": "2023-04-01T13:53:28.536939Z",
          "shell.execute_reply.started": "2023-04-01T13:53:28.454312Z"
        },
        "colab": {
          "base_uri": "https://localhost:8080/"
        },
        "id": "feb487b7-5ba7-46b5-b3b0-3a10a4dc3a18",
        "outputId": "0f86917b-2f3f-4041-93f9-7d22eb15223a"
      },
      "outputs": [
        {
          "output_type": "execute_result",
          "data": {
            "text/plain": [
              "(TensorShape([25, 28, 28, 1]), TensorShape([25, 28, 28, 1]))"
            ]
          },
          "metadata": {},
          "execution_count": 432
        }
      ],
      "source": [
        "x,y=next(iter(test_dataset))\n",
        "x.shape, y.shape"
      ]
    },
    {
      "cell_type": "code",
      "execution_count": null,
      "id": "93f40dee-4e60-4aa3-ab54-ea28b018b50d",
      "metadata": {
        "execution": {
          "iopub.execute_input": "2023-04-01T13:53:33.167761Z",
          "iopub.status.busy": "2023-04-01T13:53:33.167147Z",
          "iopub.status.idle": "2023-04-01T13:53:33.238204Z",
          "shell.execute_reply": "2023-04-01T13:53:33.237654Z",
          "shell.execute_reply.started": "2023-04-01T13:53:33.167738Z"
        },
        "colab": {
          "base_uri": "https://localhost:8080/"
        },
        "id": "93f40dee-4e60-4aa3-ab54-ea28b018b50d",
        "outputId": "0b0a56db-ca97-415d-9323-b5bf1e519084"
      },
      "outputs": [
        {
          "output_type": "execute_result",
          "data": {
            "text/plain": [
              "TensorShape([25, 28, 28, 1])"
            ]
          },
          "metadata": {},
          "execution_count": 433
        }
      ],
      "source": [
        "pred=unet_model(x)\n",
        "pred.shape"
      ]
    },
    {
      "cell_type": "code",
      "execution_count": null,
      "id": "ba740a32-6eb2-482a-96ec-a98db7a3c9be",
      "metadata": {
        "execution": {
          "iopub.execute_input": "2023-04-01T13:53:36.013063Z",
          "iopub.status.busy": "2023-04-01T13:53:36.012531Z",
          "iopub.status.idle": "2023-04-01T13:53:36.166687Z",
          "shell.execute_reply": "2023-04-01T13:53:36.166014Z",
          "shell.execute_reply.started": "2023-04-01T13:53:36.013040Z"
        },
        "colab": {
          "base_uri": "https://localhost:8080/",
          "height": 501
        },
        "id": "ba740a32-6eb2-482a-96ec-a98db7a3c9be",
        "outputId": "dcbf7588-a148-4acb-d805-d295f2b6c7f6"
      },
      "outputs": [
        {
          "output_type": "execute_result",
          "data": {
            "text/plain": [
              "<function matplotlib.pyplot.show(close=None, block=None)>"
            ]
          },
          "metadata": {},
          "execution_count": 435
        },
        {
          "output_type": "display_data",
          "data": {
            "text/plain": [
              "<Figure size 1200x600 with 2 Axes>"
            ],
            "image/png": "[encoded data removed]"
          },
          "metadata": {}
        }
      ],
      "source": [
        "n=1\n",
        "\n",
        "fig = plt.figure(figsize=(12, 6))\n",
        "fig.add_subplot(1, 2, 1)\n",
        "plt.imshow(y[n], cmap='gray')\n",
        "plt.show\n",
        "\n",
        "fig.add_subplot(1, 2, 2)\n",
        "plt.imshow(pred[n], cmap='gray')\n",
        "plt.show"
      ]
    },
    {
      "cell_type": "code",
      "execution_count": null,
      "id": "478fcdca-dea4-4a3c-8730-bfb3fd720269",
      "metadata": {
        "execution": {
          "iopub.execute_input": "2023-04-01T13:53:42.147725Z",
          "iopub.status.busy": "2023-04-01T13:53:42.146967Z",
          "iopub.status.idle": "2023-04-01T13:53:42.237774Z",
          "shell.execute_reply": "2023-04-01T13:53:42.237267Z",
          "shell.execute_reply.started": "2023-04-01T13:53:42.147700Z"
        },
        "tags": [],
        "colab": {
          "base_uri": "https://localhost:8080/",
          "height": 448
        },
        "id": "478fcdca-dea4-4a3c-8730-bfb3fd720269",
        "outputId": "8ece10cc-eed9-4c45-e926-0c77533364f0"
      },
      "outputs": [
        {
          "output_type": "execute_result",
          "data": {
            "text/plain": [
              "<function matplotlib.pyplot.show(close=None, block=None)>"
            ]
          },
          "metadata": {},
          "execution_count": 116
        },
        {
          "output_type": "display_data",
          "data": {
            "text/plain": [
              "<Figure size 640x480 with 1 Axes>"
            ],
            "image/png": "[encoded data removed]"
          },
          "metadata": {}
        }
      ],
      "source": [
        "plt.imshow(pred[7], cmap='gray')\n",
        "plt.show"
      ]
    },
    {
      "cell_type": "code",
      "execution_count": null,
      "id": "9de57293-6cfb-407b-b8dd-2f88c67d1b5d",
      "metadata": {
        "execution": {
          "iopub.execute_input": "2023-03-30T23:35:21.835958Z",
          "iopub.status.busy": "2023-03-30T23:35:21.835683Z",
          "iopub.status.idle": "2023-03-30T23:35:21.842130Z",
          "shell.execute_reply": "2023-03-30T23:35:21.840847Z",
          "shell.execute_reply.started": "2023-03-30T23:35:21.835931Z"
        },
        "id": "9de57293-6cfb-407b-b8dd-2f88c67d1b5d"
      },
      "outputs": [],
      "source": [
        "def check(val):\n",
        "    for i in range(28):\n",
        "        for j in range(28):\n",
        "            if val[i,j]<= 0:\n",
        "                val[i,j] = 0\n",
        "    return val"
      ]
    },
    {
      "cell_type": "code",
      "execution_count": null,
      "id": "3726a9cc-c494-4fdc-98c1-847ece96306d",
      "metadata": {
        "execution": {
          "iopub.execute_input": "2023-03-30T23:35:21.843797Z",
          "iopub.status.busy": "2023-03-30T23:35:21.843480Z",
          "iopub.status.idle": "2023-03-30T23:35:22.384206Z",
          "shell.execute_reply": "2023-03-30T23:35:22.383437Z",
          "shell.execute_reply.started": "2023-03-30T23:35:21.843771Z"
        },
        "id": "3726a9cc-c494-4fdc-98c1-847ece96306d"
      },
      "outputs": [],
      "source": [
        "val=tf.zeros([28,28])\n",
        "val=pred[0]\n",
        "check(val)\n",
        "plt.imshow(pred[1], cmap='gray')\n",
        "plt.show"
      ]
    },
    {
      "cell_type": "markdown",
      "id": "1889b55d-76e5-4bf4-8871-69b569827a21",
      "metadata": {
        "id": "1889b55d-76e5-4bf4-8871-69b569827a21"
      },
      "source": [
        "Fast Access"
      ]
    },
    {
      "cell_type": "code",
      "execution_count": null,
      "id": "910571d0-d0b0-47de-a3e1-9128c460a690",
      "metadata": {
        "execution": {
          "iopub.execute_input": "2023-03-30T23:35:22.385562Z",
          "iopub.status.busy": "2023-03-30T23:35:22.385324Z",
          "iopub.status.idle": "2023-03-30T23:35:22.390316Z",
          "shell.execute_reply": "2023-03-30T23:35:22.389537Z",
          "shell.execute_reply.started": "2023-03-30T23:35:22.385537Z"
        },
        "tags": [],
        "id": "910571d0-d0b0-47de-a3e1-9128c460a690"
      },
      "outputs": [],
      "source": [
        "y_train_path='/datasets/image_1'\n",
        "x_train_path='/datasets/image_conv_1'\n",
        "y_test_path='/datasets/image_2'\n",
        "x_test_path='/datasets/image_conv_2'"
      ]
    },
    {
      "cell_type": "code",
      "execution_count": null,
      "id": "cd8fd6d8-7963-41a7-bea5-b63f8055b7ef",
      "metadata": {
        "execution": {
          "iopub.execute_input": "2023-03-30T23:35:22.391437Z",
          "iopub.status.busy": "2023-03-30T23:35:22.391211Z",
          "iopub.status.idle": "2023-03-30T23:35:22.437104Z",
          "shell.execute_reply": "2023-03-30T23:35:22.436068Z",
          "shell.execute_reply.started": "2023-03-30T23:35:22.391415Z"
        },
        "tags": [],
        "id": "cd8fd6d8-7963-41a7-bea5-b63f8055b7ef"
      },
      "outputs": [],
      "source": [
        "filenames_train=os.listdir(y_train_path)\n",
        "filenames_test=os.listdir(y_test_path)"
      ]
    },
    {
      "cell_type": "code",
      "execution_count": null,
      "id": "3fbcef6a-4900-46bc-aabd-310b37f39032",
      "metadata": {
        "execution": {
          "iopub.execute_input": "2023-03-30T23:35:22.438827Z",
          "iopub.status.busy": "2023-03-30T23:35:22.438558Z",
          "iopub.status.idle": "2023-03-30T23:35:22.445486Z",
          "shell.execute_reply": "2023-03-30T23:35:22.444494Z",
          "shell.execute_reply.started": "2023-03-30T23:35:22.438802Z"
        },
        "tags": [],
        "id": "3fbcef6a-4900-46bc-aabd-310b37f39032"
      },
      "outputs": [],
      "source": [
        "def load_image(img_path, img_conv_path):\n",
        "    img, img_conv=tf.io.read_file(img_path), tf.io.read_file(img_conv_path)\n",
        "    img, img_conv=tf.image.decode_png(img), tf.image.decode_png(img_conv)\n",
        "    img, img_conv=tf.cast(img, tf.float32), tf.cast(img_conv, tf.float32)\n",
        "    #img, img_conv=tf.reshape(img,[28,28,4]), tf.reshape(img_conv,[28,28,4])\n",
        "    img, img_conv=tf.expand_dims(img[:,:,0], axis=-1), tf.expand_dims(img_conv[:,:,0], axis=-1)\n",
        "    img, img_conv=img/255.0, img_conv/255.0\n",
        "    return img, img_conv"
      ]
    },
    {
      "cell_type": "code",
      "execution_count": null,
      "id": "c02762d3-7477-4cac-aa27-0f4f5a088296",
      "metadata": {
        "execution": {
          "iopub.execute_input": "2023-03-30T23:35:22.450388Z",
          "iopub.status.busy": "2023-03-30T23:35:22.450050Z",
          "iopub.status.idle": "2023-03-30T23:35:22.478761Z",
          "shell.execute_reply": "2023-03-30T23:35:22.477847Z",
          "shell.execute_reply.started": "2023-03-30T23:35:22.450361Z"
        },
        "tags": [],
        "id": "c02762d3-7477-4cac-aa27-0f4f5a088296"
      },
      "outputs": [],
      "source": [
        "y_train, x_train=load_image(os.path.join(y_train_path, filenames_train[0]), os.path.join(x_train_path, filenames_train[0]))\n",
        "y_test, x_test=load_image(os.path.join(y_test_path, filenames_test[0]), os.path.join(x_test_path, filenames_test[0]))\n",
        "print(x_train.shape, y_train.shape)\n",
        "print(x_test.shape, y_test.shape)"
      ]
    },
    {
      "cell_type": "code",
      "execution_count": null,
      "id": "29aa68d1-0d2f-45f0-9351-ec12af5a80a3",
      "metadata": {
        "execution": {
          "iopub.execute_input": "2023-03-30T23:35:22.480321Z",
          "iopub.status.busy": "2023-03-30T23:35:22.480075Z",
          "iopub.status.idle": "2023-03-30T23:35:22.486246Z",
          "shell.execute_reply": "2023-03-30T23:35:22.485314Z",
          "shell.execute_reply.started": "2023-03-30T23:35:22.480296Z"
        },
        "id": "29aa68d1-0d2f-45f0-9351-ec12af5a80a3"
      },
      "outputs": [],
      "source": [
        "x_train=[os.path.join(x_train_path,i) for i in filenames_train]\n",
        "y_train=[os.path.join(y_train_path,i) for i in filenames_train]\n",
        "x_test=[os.path.join(x_test_path,i) for i in filenames_test]\n",
        "y_test=[os.path.join(y_test_path,i) for i in filenames_test]"
      ]
    },
    {
      "cell_type": "code",
      "execution_count": null,
      "id": "54f1eabc-e777-462f-a72a-123834e94c41",
      "metadata": {
        "execution": {
          "iopub.execute_input": "2023-03-30T23:35:22.487989Z",
          "iopub.status.busy": "2023-03-30T23:35:22.487747Z",
          "iopub.status.idle": "2023-03-30T23:35:22.514025Z",
          "shell.execute_reply": "2023-03-30T23:35:22.512931Z",
          "shell.execute_reply.started": "2023-03-30T23:35:22.487966Z"
        },
        "id": "54f1eabc-e777-462f-a72a-123834e94c41"
      },
      "outputs": [],
      "source": [
        "training_dataset=tf.data.Dataset.from_tensor_slices((x_train, y_train))\n",
        "training_dataset=training_dataset.map(load_image).batch(25)"
      ]
    },
    {
      "cell_type": "code",
      "execution_count": null,
      "id": "6805530f-f7e7-4e95-88cb-f52726e8318f",
      "metadata": {
        "execution": {
          "iopub.execute_input": "2023-03-30T23:35:22.515560Z",
          "iopub.status.busy": "2023-03-30T23:35:22.515301Z",
          "iopub.status.idle": "2023-03-30T23:35:22.620470Z",
          "shell.execute_reply": "2023-03-30T23:35:22.619628Z",
          "shell.execute_reply.started": "2023-03-30T23:35:22.515534Z"
        },
        "id": "6805530f-f7e7-4e95-88cb-f52726e8318f"
      },
      "outputs": [],
      "source": [
        "test_dataset=tf.data.Dataset.from_tensor_slices((x_test, y_test))\n",
        "test_dataset=test_dataset.map(load_image).batch(25)"
      ]
    },
    {
      "cell_type": "code",
      "execution_count": null,
      "id": "83673059-8d7a-4202-b488-3b0f797d25a1",
      "metadata": {
        "execution": {
          "iopub.execute_input": "2023-03-30T23:35:22.621975Z",
          "iopub.status.busy": "2023-03-30T23:35:22.621686Z",
          "iopub.status.idle": "2023-03-30T23:35:24.811392Z",
          "shell.execute_reply": "2023-03-30T23:35:24.810399Z",
          "shell.execute_reply.started": "2023-03-30T23:35:22.621949Z"
        },
        "id": "83673059-8d7a-4202-b488-3b0f797d25a1"
      },
      "outputs": [],
      "source": [
        "import keras\n",
        "unet_model = keras.models.load_model(\"tanh.h5\")"
      ]
    },
    {
      "cell_type": "code",
      "execution_count": null,
      "id": "0b1bc15a-41fb-43ca-8bc0-1176fd48efe7",
      "metadata": {
        "execution": {
          "iopub.execute_input": "2023-03-30T23:35:24.813115Z",
          "iopub.status.busy": "2023-03-30T23:35:24.812846Z",
          "iopub.status.idle": "2023-03-30T23:35:24.932278Z",
          "shell.execute_reply": "2023-03-30T23:35:24.931319Z",
          "shell.execute_reply.started": "2023-03-30T23:35:24.813089Z"
        },
        "id": "0b1bc15a-41fb-43ca-8bc0-1176fd48efe7"
      },
      "outputs": [],
      "source": [
        "@tf.function\n",
        "def train_step(x,y):\n",
        "    with tf.GradientTape(persistent=True) as tape:\n",
        "        pred=unet_model(x, training=True)\n",
        "        loss_=loss(pred,y)\n",
        "    gradients=tape.gradient(loss_, unet_model.trainable_variables)\n",
        "    optimizer.apply_gradients(zip(gradients, unet_model.trainable_variables))\n",
        "    return loss_"
      ]
    },
    {
      "cell_type": "code",
      "execution_count": null,
      "id": "b528b3c4-5f82-4bb3-8455-56b0a03868a4",
      "metadata": {
        "execution": {
          "iopub.execute_input": "2023-03-30T23:35:24.935747Z",
          "iopub.status.busy": "2023-03-30T23:35:24.935463Z",
          "iopub.status.idle": "2023-03-30T23:36:01.953048Z",
          "shell.execute_reply": "2023-03-30T23:36:01.952272Z",
          "shell.execute_reply.started": "2023-03-30T23:35:24.935721Z"
        },
        "id": "b528b3c4-5f82-4bb3-8455-56b0a03868a4"
      },
      "outputs": [],
      "source": [
        "epochs=30\n",
        "losses=[]\n",
        "for epoch in range(1, epochs+1):\n",
        "    batch_loss=[]\n",
        "    for train_x, train_y in training_dataset:\n",
        "        loss_=train_step(train_x, train_y)\n",
        "        batch_loss.append(loss_)\n",
        "    val_losses=[]\n",
        "    for test_x, test_y in test_dataset:\n",
        "        val_losses.append(loss(unet_model(test_x, training=False), test_y))\n",
        "    losses.append(np.mean(batch_loss))\n",
        "    print(f\"Completed Epoch:{epoch} Training Loss: {np.mean(batch_loss)} Validation loss: {np.mean(val_losses)}\")"
      ]
    },
    {
      "cell_type": "code",
      "execution_count": null,
      "id": "9df77b99-cf01-481f-b698-8b4fa619587b",
      "metadata": {
        "execution": {
          "iopub.execute_input": "2023-03-30T23:36:01.955053Z",
          "iopub.status.busy": "2023-03-30T23:36:01.954288Z",
          "iopub.status.idle": "2023-03-30T23:36:02.961602Z",
          "shell.execute_reply": "2023-03-30T23:36:02.960649Z",
          "shell.execute_reply.started": "2023-03-30T23:36:01.954991Z"
        },
        "id": "9df77b99-cf01-481f-b698-8b4fa619587b"
      },
      "outputs": [],
      "source": [
        "unet_model.save(\"tanh.h5\")"
      ]
    },
    {
      "cell_type": "code",
      "execution_count": null,
      "id": "a6fce056-8050-4c14-8b31-65a0564132fe",
      "metadata": {
        "execution": {
          "iopub.execute_input": "2023-03-30T23:36:02.964045Z",
          "iopub.status.busy": "2023-03-30T23:36:02.963699Z",
          "iopub.status.idle": "2023-03-30T23:36:02.997876Z",
          "shell.execute_reply": "2023-03-30T23:36:02.996837Z",
          "shell.execute_reply.started": "2023-03-30T23:36:02.964018Z"
        },
        "id": "a6fce056-8050-4c14-8b31-65a0564132fe"
      },
      "outputs": [],
      "source": [
        "x,y=next(iter(test_dataset))\n",
        "x.shape, y.shape\n",
        "print(y[0])"
      ]
    },
    {
      "cell_type": "code",
      "execution_count": null,
      "id": "349b0fc1-c80c-4089-90e2-ca78a8355890",
      "metadata": {
        "execution": {
          "iopub.execute_input": "2023-03-30T23:36:02.999246Z",
          "iopub.status.busy": "2023-03-30T23:36:02.998990Z",
          "iopub.status.idle": "2023-03-30T23:36:03.108144Z",
          "shell.execute_reply": "2023-03-30T23:36:03.107308Z",
          "shell.execute_reply.started": "2023-03-30T23:36:02.999221Z"
        },
        "id": "349b0fc1-c80c-4089-90e2-ca78a8355890"
      },
      "outputs": [],
      "source": [
        "pred=unet_model(x)\n",
        "pred.shape"
      ]
    },
    {
      "cell_type": "code",
      "execution_count": null,
      "id": "cb6b7cf7-bce6-4079-998f-766e449d1258",
      "metadata": {
        "execution": {
          "iopub.execute_input": "2023-03-30T23:36:03.109894Z",
          "iopub.status.busy": "2023-03-30T23:36:03.109538Z",
          "iopub.status.idle": "2023-03-30T23:36:03.271829Z",
          "shell.execute_reply": "2023-03-30T23:36:03.271052Z",
          "shell.execute_reply.started": "2023-03-30T23:36:03.109861Z"
        },
        "id": "cb6b7cf7-bce6-4079-998f-766e449d1258"
      },
      "outputs": [],
      "source": [
        "plt.imshow(y[1], cmap='gray')\n",
        "plt.show"
      ]
    },
    {
      "cell_type": "code",
      "execution_count": null,
      "id": "159dde09-8582-4e02-b1bc-0dd354f5bbe1",
      "metadata": {
        "execution": {
          "iopub.execute_input": "2023-03-30T23:36:03.273037Z",
          "iopub.status.busy": "2023-03-30T23:36:03.272796Z",
          "iopub.status.idle": "2023-03-30T23:36:03.285281Z",
          "shell.execute_reply": "2023-03-30T23:36:03.284452Z",
          "shell.execute_reply.started": "2023-03-30T23:36:03.273011Z"
        },
        "id": "159dde09-8582-4e02-b1bc-0dd354f5bbe1"
      },
      "outputs": [],
      "source": [
        "print(y[16])"
      ]
    },
    {
      "cell_type": "code",
      "execution_count": null,
      "id": "e8eedbb0-3cdb-4741-adca-542be06b37f3",
      "metadata": {
        "execution": {
          "iopub.execute_input": "2023-03-30T23:36:03.286727Z",
          "iopub.status.busy": "2023-03-30T23:36:03.286375Z",
          "iopub.status.idle": "2023-03-30T23:36:03.461557Z",
          "shell.execute_reply": "2023-03-30T23:36:03.460803Z",
          "shell.execute_reply.started": "2023-03-30T23:36:03.286684Z"
        },
        "tags": [],
        "id": "e8eedbb0-3cdb-4741-adca-542be06b37f3"
      },
      "outputs": [],
      "source": [
        "plt.imshow(pred[1], cmap='gray')\n",
        "plt.show"
      ]
    },
    {
      "cell_type": "code",
      "execution_count": null,
      "id": "14dcaaff-ebc8-48b1-969a-321c51a24f45",
      "metadata": {
        "id": "14dcaaff-ebc8-48b1-969a-321c51a24f45"
      },
      "outputs": [],
      "source": []
    }
  ],
  "metadata": {
    "kernelspec": {
      "display_name": "Python 3",
      "name": "python3"
    },
    "language_info": {
      "codemirror_mode": {
        "name": "ipython",
        "version": 3
      },
      "file_extension": ".py",
      "mimetype": "text/x-python",
      "name": "python",
      "nbconvert_exporter": "python",
      "pygments_lexer": "ipython3",
      "version": "3.9.16"
    },
    "colab": {
      "provenance": [],
      "gpuType": "T4"
    },
    "accelerator": "GPU",
    "widgets": {
      "application/vnd.jupyter.widget-state+json": {
        "0ea6ced3b3e5475abdea4242ee0558b8": {
          "model_module": "@jupyter-widgets/controls",
          "model_name": "HBoxModel",
          "model_module_version": "1.5.0",
          "state": {
            "_dom_classes": [],
            "_model_module": "@jupyter-widgets/controls",
            "_model_module_version": "1.5.0",
            "_model_name": "HBoxModel",
            "_view_count": null,
            "_view_module": "@jupyter-widgets/controls",
            "_view_module_version": "1.5.0",
            "_view_name": "HBoxView",
            "box_style": "",
            "children": [
              "IPY_MODEL_5a0b9a7defa24991a862cb3280c3914c",
              "IPY_MODEL_723cfc94dc5245e8b7647b193ba3b233",
              "IPY_MODEL_cc4e851900cc4ef098159d85ee742f20"
            ],
            "layout": "IPY_MODEL_9a15c795d7af4a4a95ebaa758c69170f"
          }
        },
        "5a0b9a7defa24991a862cb3280c3914c": {
          "model_module": "@jupyter-widgets/controls",
          "model_name": "HTMLModel",
          "model_module_version": "1.5.0",
          "state": {
            "_dom_classes": [],
            "_model_module": "@jupyter-widgets/controls",
            "_model_module_version": "1.5.0",
            "_model_name": "HTMLModel",
            "_view_count": null,
            "_view_module": "@jupyter-widgets/controls",
            "_view_module_version": "1.5.0",
            "_view_name": "HTMLView",
            "description": "",
            "description_tooltip": null,
            "layout": "IPY_MODEL_f5a03a3db40944d7819f71cacd8e8c45",
            "placeholder": "​",
            "style": "IPY_MODEL_a45b294b0ae14aa58ef1c65a10f32948",
            "value": "100%"
          }
        },
        "723cfc94dc5245e8b7647b193ba3b233": {
          "model_module": "@jupyter-widgets/controls",
          "model_name": "FloatProgressModel",
          "model_module_version": "1.5.0",
          "state": {
            "_dom_classes": [],
            "_model_module": "@jupyter-widgets/controls",
            "_model_module_version": "1.5.0",
            "_model_name": "FloatProgressModel",
            "_view_count": null,
            "_view_module": "@jupyter-widgets/controls",
            "_view_module_version": "1.5.0",
            "_view_name": "ProgressView",
            "bar_style": "success",
            "description": "",
            "description_tooltip": null,
            "layout": "IPY_MODEL_b9780ee2fa664c08ae25803038fca825",
            "max": 15,
            "min": 0,
            "orientation": "horizontal",
            "style": "IPY_MODEL_4eb4e2b618164888b2c79f07ea7abab7",
            "value": 15
          }
        },
        "cc4e851900cc4ef098159d85ee742f20": {
          "model_module": "@jupyter-widgets/controls",
          "model_name": "HTMLModel",
          "model_module_version": "1.5.0",
          "state": {
            "_dom_classes": [],
            "_model_module": "@jupyter-widgets/controls",
            "_model_module_version": "1.5.0",
            "_model_name": "HTMLModel",
            "_view_count": null,
            "_view_module": "@jupyter-widgets/controls",
            "_view_module_version": "1.5.0",
            "_view_name": "HTMLView",
            "description": "",
            "description_tooltip": null,
            "layout": "IPY_MODEL_41ab83465ef0430fa6ec4a754ed006c1",
            "placeholder": "​",
            "style": "IPY_MODEL_413b6ccdebae49ea8de1d807482cc98b",
            "value": " 15/15 [01:21&lt;00:00,  3.53s/it]"
          }
        },
        "9a15c795d7af4a4a95ebaa758c69170f": {
          "model_module": "@jupyter-widgets/base",
          "model_name": "LayoutModel",
          "model_module_version": "1.2.0",
          "state": {
            "_model_module": "@jupyter-widgets/base",
            "_model_module_version": "1.2.0",
            "_model_name": "LayoutModel",
            "_view_count": null,
            "_view_module": "@jupyter-widgets/base",
            "_view_module_version": "1.2.0",
            "_view_name": "LayoutView",
            "align_content": null,
            "align_items": null,
            "align_self": null,
            "border": null,
            "bottom": null,
            "display": null,
            "flex": null,
            "flex_flow": null,
            "grid_area": null,
            "grid_auto_columns": null,
            "grid_auto_flow": null,
            "grid_auto_rows": null,
            "grid_column": null,
            "grid_gap": null,
            "grid_row": null,
            "grid_template_areas": null,
            "grid_template_columns": null,
            "grid_template_rows": null,
            "height": null,
            "justify_content": null,
            "justify_items": null,
            "left": null,
            "margin": null,
            "max_height": null,
            "max_width": null,
            "min_height": null,
            "min_width": null,
            "object_fit": null,
            "object_position": null,
            "order": null,
            "overflow": null,
            "overflow_x": null,
            "overflow_y": null,
            "padding": null,
            "right": null,
            "top": null,
            "visibility": null,
            "width": null
          }
        },
        "f5a03a3db40944d7819f71cacd8e8c45": {
          "model_module": "@jupyter-widgets/base",
          "model_name": "LayoutModel",
          "model_module_version": "1.2.0",
          "state": {
            "_model_module": "@jupyter-widgets/base",
            "_model_module_version": "1.2.0",
            "_model_name": "LayoutModel",
            "_view_count": null,
            "_view_module": "@jupyter-widgets/base",
            "_view_module_version": "1.2.0",
            "_view_name": "LayoutView",
            "align_content": null,
            "align_items": null,
            "align_self": null,
            "border": null,
            "bottom": null,
            "display": null,
            "flex": null,
            "flex_flow": null,
            "grid_area": null,
            "grid_auto_columns": null,
            "grid_auto_flow": null,
            "grid_auto_rows": null,
            "grid_column": null,
            "grid_gap": null,
            "grid_row": null,
            "grid_template_areas": null,
            "grid_template_columns": null,
            "grid_template_rows": null,
            "height": null,
            "justify_content": null,
            "justify_items": null,
            "left": null,
            "margin": null,
            "max_height": null,
            "max_width": null,
            "min_height": null,
            "min_width": null,
            "object_fit": null,
            "object_position": null,
            "order": null,
            "overflow": null,
            "overflow_x": null,
            "overflow_y": null,
            "padding": null,
            "right": null,
            "top": null,
            "visibility": null,
            "width": null
          }
        },
        "a45b294b0ae14aa58ef1c65a10f32948": {
          "model_module": "@jupyter-widgets/controls",
          "model_name": "DescriptionStyleModel",
          "model_module_version": "1.5.0",
          "state": {
            "_model_module": "@jupyter-widgets/controls",
            "_model_module_version": "1.5.0",
            "_model_name": "DescriptionStyleModel",
            "_view_count": null,
            "_view_module": "@jupyter-widgets/base",
            "_view_module_version": "1.2.0",
            "_view_name": "StyleView",
            "description_width": ""
          }
        },
        "b9780ee2fa664c08ae25803038fca825": {
          "model_module": "@jupyter-widgets/base",
          "model_name": "LayoutModel",
          "model_module_version": "1.2.0",
          "state": {
            "_model_module": "@jupyter-widgets/base",
            "_model_module_version": "1.2.0",
            "_model_name": "LayoutModel",
            "_view_count": null,
            "_view_module": "@jupyter-widgets/base",
            "_view_module_version": "1.2.0",
            "_view_name": "LayoutView",
            "align_content": null,
            "align_items": null,
            "align_self": null,
            "border": null,
            "bottom": null,
            "display": null,
            "flex": null,
            "flex_flow": null,
            "grid_area": null,
            "grid_auto_columns": null,
            "grid_auto_flow": null,
            "grid_auto_rows": null,
            "grid_column": null,
            "grid_gap": null,
            "grid_row": null,
            "grid_template_areas": null,
            "grid_template_columns": null,
            "grid_template_rows": null,
            "height": null,
            "justify_content": null,
            "justify_items": null,
            "left": null,
            "margin": null,
            "max_height": null,
            "max_width": null,
            "min_height": null,
            "min_width": null,
            "object_fit": null,
            "object_position": null,
            "order": null,
            "overflow": null,
            "overflow_x": null,
            "overflow_y": null,
            "padding": null,
            "right": null,
            "top": null,
            "visibility": null,
            "width": null
          }
        },
        "4eb4e2b618164888b2c79f07ea7abab7": {
          "model_module": "@jupyter-widgets/controls",
          "model_name": "ProgressStyleModel",
          "model_module_version": "1.5.0",
          "state": {
            "_model_module": "@jupyter-widgets/controls",
            "_model_module_version": "1.5.0",
            "_model_name": "ProgressStyleModel",
            "_view_count": null,
            "_view_module": "@jupyter-widgets/base",
            "_view_module_version": "1.2.0",
            "_view_name": "StyleView",
            "bar_color": null,
            "description_width": ""
          }
        },
        "41ab83465ef0430fa6ec4a754ed006c1": {
          "model_module": "@jupyter-widgets/base",
          "model_name": "LayoutModel",
          "model_module_version": "1.2.0",
          "state": {
            "_model_module": "@jupyter-widgets/base",
            "_model_module_version": "1.2.0",
            "_model_name": "LayoutModel",
            "_view_count": null,
            "_view_module": "@jupyter-widgets/base",
            "_view_module_version": "1.2.0",
            "_view_name": "LayoutView",
            "align_content": null,
            "align_items": null,
            "align_self": null,
            "border": null,
            "bottom": null,
            "display": null,
            "flex": null,
            "flex_flow": null,
            "grid_area": null,
            "grid_auto_columns": null,
            "grid_auto_flow": null,
            "grid_auto_rows": null,
            "grid_column": null,
            "grid_gap": null,
            "grid_row": null,
            "grid_template_areas": null,
            "grid_template_columns": null,
            "grid_template_rows": null,
            "height": null,
            "justify_content": null,
            "justify_items": null,
            "left": null,
            "margin": null,
            "max_height": null,
            "max_width": null,
            "min_height": null,
            "min_width": null,
            "object_fit": null,
            "object_position": null,
            "order": null,
            "overflow": null,
            "overflow_x": null,
            "overflow_y": null,
            "padding": null,
            "right": null,
            "top": null,
            "visibility": null,
            "width": null
          }
        },
        "413b6ccdebae49ea8de1d807482cc98b": {
          "model_module": "@jupyter-widgets/controls",
          "model_name": "DescriptionStyleModel",
          "model_module_version": "1.5.0",
          "state": {
            "_model_module": "@jupyter-widgets/controls",
            "_model_module_version": "1.5.0",
            "_model_name": "DescriptionStyleModel",
            "_view_count": null,
            "_view_module": "@jupyter-widgets/base",
            "_view_module_version": "1.2.0",
            "_view_name": "StyleView",
            "description_width": ""
          }
        }
      }
    }
  },
  "nbformat": 4,
  "nbformat_minor": 5
}